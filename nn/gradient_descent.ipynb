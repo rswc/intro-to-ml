{
 "cells": [
  {
   "attachments": {},
   "cell_type": "markdown",
   "metadata": {},
   "source": [
    "# Finding the minimum of a function"
   ]
  },
  {
   "cell_type": "code",
   "execution_count": null,
   "metadata": {},
   "outputs": [],
   "source": [
    "import numpy as np\n",
    "import matplotlib.pyplot as plt\n",
    "from tqdm import tqdm\n",
    "\n",
    "plt.rcParams['figure.figsize'] = [12, 6]"
   ]
  },
  {
   "cell_type": "code",
   "execution_count": null,
   "metadata": {},
   "outputs": [],
   "source": [
    "class Func:\n",
    "    def __init__(self, params) -> None:\n",
    "        self.params = params\n",
    "\n",
    "    def grad(self, X):\n",
    "        raise NotImplementedError()\n",
    "\n",
    "class Quadratic(Func):\n",
    "    def __call__(self, X):\n",
    "        return self.params[0] * X * X\n",
    "    \n",
    "    def grad(self, X):\n",
    "        return 2 * self.params[0] * X\n",
    "\n",
    "class TwoMinima(Func):\n",
    "    def __call__(self, X):\n",
    "        return self.params[0] * X ** 4 + self.params[1] * X ** 2 + self.params[2] * X\n",
    "    \n",
    "    def grad(self, X):\n",
    "        return 4 * self.params[0] * X ** 3 + 2 * self.params[1] * X + self.params[2]"
   ]
  },
  {
   "cell_type": "code",
   "execution_count": null,
   "metadata": {},
   "outputs": [],
   "source": [
    "def fit(func: Func, init_X: int, num_epochs: int, learning_rate: float):\n",
    "    \n",
    "    X = init_X\n",
    "    X_values = [X]\n",
    "    grad_values = []\n",
    "\n",
    "    for _ in tqdm(range(num_epochs)):\n",
    "        grad = func.grad(X)\n",
    "\n",
    "        X -= grad * learning_rate\n",
    "\n",
    "        X_values.append(X)\n",
    "        grad_values.append(grad)\n",
    "    \n",
    "    return np.array(X_values), np.array(grad_values), X"
   ]
  },
  {
   "cell_type": "code",
   "execution_count": null,
   "metadata": {},
   "outputs": [],
   "source": [
    "WINDOW_START = -4\n",
    "WINDOW_END = -WINDOW_START\n",
    "WINDOW_COUNT = 100"
   ]
  },
  {
   "cell_type": "code",
   "execution_count": null,
   "metadata": {},
   "outputs": [],
   "source": [
    "f1 = Quadratic([1])\n",
    "# f1 = TwoMinima([0.2, -2, 0.4])\n",
    "\n",
    "xs = np.linspace(WINDOW_START, WINDOW_END, WINDOW_COUNT)\n",
    "f_series = f1(xs)\n",
    "\n",
    "xv, gv, x_opt = fit(f1, init_X=3.5, num_epochs=50, learning_rate=1e-1)\n",
    "\n",
    "print(\"Found minimum X at:\", x_opt)"
   ]
  },
  {
   "cell_type": "code",
   "execution_count": null,
   "metadata": {},
   "outputs": [],
   "source": [
    "plt.subplot(121)\n",
    "plt.plot(xs, f_series, 'k')\n",
    "plt.plot(xv, f1(xv), 'o-r')\n",
    "plt.title('Function')\n",
    "plt.xlabel('X')\n",
    "plt.ylabel('f(X)')\n",
    "plt.subplot(122)\n",
    "plt.plot(gv)\n",
    "plt.title('Gradient')\n",
    "plt.xlabel('Iteration')\n",
    "plt.show()"
   ]
  }
 ],
 "metadata": {
  "kernelspec": {
   "display_name": "intro",
   "language": "python",
   "name": "python3"
  },
  "language_info": {
   "codemirror_mode": {
    "name": "ipython",
    "version": 3
   },
   "file_extension": ".py",
   "mimetype": "text/x-python",
   "name": "python",
   "nbconvert_exporter": "python",
   "pygments_lexer": "ipython3",
   "version": "3.10.8 | packaged by conda-forge | (main, Nov 24 2022, 14:07:00) [MSC v.1916 64 bit (AMD64)]"
  },
  "orig_nbformat": 4,
  "vscode": {
   "interpreter": {
    "hash": "04a52977b9b0128aeceb5fa2243ef17bfbe5750e2fde3784d8ec4b1c8903c208"
   }
  }
 },
 "nbformat": 4,
 "nbformat_minor": 2
}
