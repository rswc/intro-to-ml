{
 "cells": [
  {
   "cell_type": "code",
   "execution_count": null,
   "metadata": {},
   "outputs": [],
   "source": [
    "%matplotlib inline\n",
    "\n",
    "import numpy as np\n",
    "import matplotlib.pyplot as plt\n",
    "from sklearn.model_selection import train_test_split\n",
    "from tqdm import tqdm\n",
    "\n",
    "import torch\n",
    "import torch.nn as nn\n",
    "import torch.optim as optim\n",
    "import torch.utils.data as data\n",
    "\n",
    "import functions as func"
   ]
  },
  {
   "cell_type": "code",
   "execution_count": null,
   "metadata": {},
   "outputs": [],
   "source": [
    "class Logistic(nn.Module):\n",
    "    def __init__(self, input_size, output_size) -> None:\n",
    "        super(Logistic, self).__init__()\n",
    "        \n",
    "        self.linear = nn.Linear(input_size, output_size)\n",
    "    \n",
    "    def forward(self, x):\n",
    "        return torch.sigmoid(self.linear(x))"
   ]
  },
  {
   "attachments": {},
   "cell_type": "markdown",
   "metadata": {},
   "source": [
    "## Dataset"
   ]
  },
  {
   "cell_type": "code",
   "execution_count": null,
   "metadata": {},
   "outputs": [],
   "source": [
    "X = np.random.uniform(0, 1, size=(500,))\n",
    "\n",
    "Y = func.pillar(X)\n",
    "\n",
    "X_train, X_test, Y_train, Y_test = train_test_split(X, Y, test_size=0.2, random_state=42)\n",
    "\n",
    "plt.scatter(X, Y)\n",
    "plt.title('Data')\n",
    "plt.show()\n",
    "\n",
    "train_ds = data.TensorDataset(\n",
    "    torch.tensor(X_train, dtype=torch.float).unsqueeze(-1),\n",
    "    torch.tensor(Y_train, dtype=torch.float)\n",
    ")\n",
    "test_ds = data.TensorDataset(\n",
    "    torch.tensor(X_test, dtype=torch.float).unsqueeze(-1),\n",
    "    torch.tensor(Y_test, dtype=torch.float)\n",
    ")"
   ]
  },
  {
   "attachments": {},
   "cell_type": "markdown",
   "metadata": {},
   "source": [
    "## Training"
   ]
  },
  {
   "cell_type": "code",
   "execution_count": null,
   "metadata": {},
   "outputs": [],
   "source": [
    "LEARNING_RATE = 1e-1\n",
    "EPOCHS = 1000\n",
    "BATCH_SIZE = 16\n",
    "HIDDEN_LAYER_SIZE = 2\n",
    "\n",
    "train_loader = data.DataLoader(train_ds, batch_size=BATCH_SIZE)\n",
    "test_loader = data.DataLoader(test_ds)\n",
    "\n",
    "l1 = Logistic(1, HIDDEN_LAYER_SIZE)\n",
    "l2 = Logistic(HIDDEN_LAYER_SIZE, 1)\n",
    "\n",
    "model = nn.Sequential(l1, l2)\n",
    "\n",
    "cost = nn.MSELoss()\n",
    "opt = optim.Adam(model.parameters(), lr=LEARNING_RATE)\n",
    "\n",
    "train_loss = []\n",
    "\n",
    "model.train()\n",
    "\n",
    "for epoch in tqdm(range(EPOCHS), 'Epoch'):\n",
    "    epoch_loss = []\n",
    "\n",
    "    for x, y in train_loader:\n",
    "        # Compute prediction and loss\n",
    "        pred = model(x)\n",
    "        loss = cost(pred, y.unsqueeze(-1))\n",
    "\n",
    "        # Backpropagation\n",
    "        opt.zero_grad()\n",
    "        loss.backward()\n",
    "        opt.step() \n",
    "    \n",
    "        epoch_loss.append(loss.detach())\n",
    "\n",
    "    train_loss.append(torch.tensor(epoch_loss).mean())"
   ]
  },
  {
   "cell_type": "code",
   "execution_count": null,
   "metadata": {},
   "outputs": [],
   "source": [
    "model.eval()\n",
    "\n",
    "x, y = test_ds[:]\n",
    "\n",
    "output = model(x).detach().squeeze()\n",
    "\n",
    "loss = cost(output, y)\n",
    "print('test loss = ', loss)"
   ]
  },
  {
   "cell_type": "code",
   "execution_count": null,
   "metadata": {},
   "outputs": [],
   "source": [
    "plt.plot(train_loss)\n",
    "plt.title('Training loss')\n",
    "plt.show()"
   ]
  },
  {
   "attachments": {},
   "cell_type": "markdown",
   "metadata": {},
   "source": [
    "## Neuron visualization"
   ]
  },
  {
   "cell_type": "code",
   "execution_count": null,
   "metadata": {},
   "outputs": [],
   "source": [
    "x_lin = torch.linspace(0, 1, 100).unsqueeze(-1)\n",
    "f = model(x_lin).detach().numpy()\n",
    "\n",
    "plt.scatter(X, Y, alpha=0.4)\n",
    "plt.plot(x_lin, f)\n",
    "plt.title('Trained model')\n",
    "plt.show()"
   ]
  },
  {
   "cell_type": "code",
   "execution_count": null,
   "metadata": {},
   "outputs": [],
   "source": [
    "def plot_l1_neurons():\n",
    "    f = l1(x_lin).detach()\n",
    "\n",
    "    plt.scatter(X, Y, alpha=0.4)\n",
    "\n",
    "    for neuron in range(HIDDEN_LAYER_SIZE):\n",
    "        plt.plot(x_lin, f[:, neuron].numpy(), label=f'neuron {neuron}')\n",
    "\n",
    "    plt.legend()\n",
    "    plt.title('Hidden layer neurons')\n",
    "    plt.show()\n",
    "\n",
    "plot_l1_neurons()"
   ]
  },
  {
   "cell_type": "code",
   "execution_count": null,
   "metadata": {},
   "outputs": [],
   "source": [
    "if HIDDEN_LAYER_SIZE == 2:\n",
    "    f = l1(x_lin).detach()\n",
    "\n",
    "    f_n0 = f[:, 0]\n",
    "    f_n1 = f[:, 1]\n",
    "\n",
    "    x_lin2 = torch.cartesian_prod(f_n0, f_n1)\n",
    "    f = l2(x_lin2).detach().numpy().reshape((len(f_n0), len(f_n1)))\n",
    "\n",
    "    plt.subplot(1, 2, 1)\n",
    "    plt.title('Output layer')\n",
    "    plt.imshow(f, extent=[0, 1, 0, 1])\n",
    "\n",
    "    plt.subplot(1, 2, 2)\n",
    "    plot_l1_neurons()"
   ]
  }
 ],
 "metadata": {
  "kernelspec": {
   "display_name": "intro",
   "language": "python",
   "name": "python3"
  },
  "language_info": {
   "codemirror_mode": {
    "name": "ipython",
    "version": 3
   },
   "file_extension": ".py",
   "mimetype": "text/x-python",
   "name": "python",
   "nbconvert_exporter": "python",
   "pygments_lexer": "ipython3",
   "version": "3.10.8"
  },
  "orig_nbformat": 4,
  "vscode": {
   "interpreter": {
    "hash": "04a52977b9b0128aeceb5fa2243ef17bfbe5750e2fde3784d8ec4b1c8903c208"
   }
  }
 },
 "nbformat": 4,
 "nbformat_minor": 2
}
